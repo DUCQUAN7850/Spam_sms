{
 "cells": [
  {
   "cell_type": "code",
   "execution_count": 1,
   "metadata": {},
   "outputs": [],
   "source": [
    "import ast\n",
    "import pandas as pd\n",
    "import numpy as np\n",
    "from sklearn.naive_bayes import MultinomialNB\n",
    "from sklearn.feature_extraction.text import CountVectorizer\n",
    "from sklearn.naive_bayes import BernoulliNB\n",
    "from sklearn.linear_model import LogisticRegression\n",
    "from sklearn.model_selection import train_test_split\n",
    "from sklearn.metrics import accuracy_score"
   ]
  },
  {
   "cell_type": "code",
   "execution_count": 2,
   "metadata": {},
   "outputs": [
    {
     "data": {
      "text/plain": [
       "['this', 'is', 'text', 'document', 'to', 'analyze']"
      ]
     },
     "execution_count": 2,
     "metadata": {},
     "output_type": "execute_result"
    }
   ],
   "source": [
    "from sklearn.feature_extraction.text import CountVectorizer\n",
    "vectorizer = CountVectorizer()\n",
    "analyze = vectorizer.build_analyzer()\n",
    "a=analyze(\"This is a text document to analyze.\")\n",
    "a"
   ]
  },
  {
   "cell_type": "code",
   "execution_count": 3,
   "metadata": {},
   "outputs": [
    {
     "name": "stdout",
     "output_type": "stream",
     "text": [
      "82.8571\n"
     ]
    }
   ],
   "source": [
    "#dự đoán file ham_test dùng LogisticRegression\n",
    "l=[]\n",
    "with open('trainingSMS.txt', 'r') as f:\n",
    "    l = ast.literal_eval(f.read())\n",
    "\n",
    "X_train=[]#content\n",
    "Y_train=[]#label\n",
    "\n",
    "for i in range(0,len(l)):\n",
    "    X_train.append(l[i]['content'])\n",
    "for i in range(0,len(l)):\n",
    "    Y_train.append(str(l[i]['label']))\n",
    "    \n",
    "file = open(\"ham_test.txt\", encoding=\"utf8\")\n",
    "l=file.read()\n",
    "li=l.split(\"\\n\")\n",
    "\n",
    "for i in range(0,len(li)):    \n",
    "    X_train.append((li[i].split(\"\\t\"))[1])\n",
    "    Y_train.append((li[i].split(\"\\t\"))[0])\n",
    "    \n",
    "vectorizer = CountVectorizer()\n",
    "\n",
    "X = vectorizer.fit_transform(X_train)\n",
    "mail_train= X[0:239]\n",
    "mail_test= X[240:]\n",
    "label_train= Y_train[0:239]\n",
    "label_test= Y_train[240:]\n",
    "\n",
    "a=mail_train.toarray()\n",
    "label = np.array(label_train)\n",
    "lgs = LogisticRegression()\n",
    "lgs.fit(mail_train, label_train)\n",
    "print(round(lgs.score(mail_test, label_test)*100,4))"
   ]
  },
  {
   "cell_type": "code",
   "execution_count": 4,
   "metadata": {},
   "outputs": [
    {
     "name": "stdout",
     "output_type": "stream",
     "text": [
      "100.0\n"
     ]
    }
   ],
   "source": [
    "#dự đoán file spam_test dùng LogisticRegression\n",
    "l=[]\n",
    "with open('trainingSMS.txt', 'r') as f:\n",
    "    l = ast.literal_eval(f.read())\n",
    "\n",
    "X_train=[]#content\n",
    "Y_train=[]#label\n",
    "\n",
    "for i in range(0,len(l)):\n",
    "    X_train.append(l[i]['content'])\n",
    "for i in range(0,len(l)):\n",
    "    Y_train.append(str(l[i]['label']))\n",
    "    \n",
    "file = open(\"spam_test.txt\", encoding=\"utf8\")\n",
    "l=file.read()\n",
    "li=l.split(\"\\n\")\n",
    "\n",
    "for i in range(0,len(li)):    \n",
    "    X_train.append((li[i].split(\"\\t\"))[1])\n",
    "    Y_train.append((li[i].split(\"\\t\"))[0])\n",
    "    \n",
    "vectorizer = CountVectorizer()\n",
    "\n",
    "X = vectorizer.fit_transform(X_train)\n",
    "mail_train= X[0:239]\n",
    "mail_test= X[240:]\n",
    "label_train= Y_train[0:239]\n",
    "label_test= Y_train[240:]\n",
    "\n",
    "a=mail_train.toarray()\n",
    "label = np.array(label_train)\n",
    "lgs = LogisticRegression()\n",
    "lgs.fit(mail_train, label_train)\n",
    "print(round(lgs.score(mail_test, label_test)*100,4))"
   ]
  }
 ],
 "metadata": {
  "kernelspec": {
   "display_name": "Python 3",
   "language": "python",
   "name": "python3"
  },
  "language_info": {
   "codemirror_mode": {
    "name": "ipython",
    "version": 3
   },
   "file_extension": ".py",
   "mimetype": "text/x-python",
   "name": "python",
   "nbconvert_exporter": "python",
   "pygments_lexer": "ipython3",
   "version": "3.6.4"
  }
 },
 "nbformat": 4,
 "nbformat_minor": 2
}
