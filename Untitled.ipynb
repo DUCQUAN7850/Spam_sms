{
 "cells": [
  {
   "cell_type": "code",
   "execution_count": 1,
   "metadata": {
    "scrolled": false
   },
   "outputs": [],
   "source": [
    "import ast\n",
    "import pandas as pd\n",
    "import numpy as np\n",
    "from sklearn.naive_bayes import MultinomialNB\n",
    "from sklearn.feature_extraction.text import CountVectorizer\n",
    "from sklearn.naive_bayes import BernoulliNB\n",
    "from sklearn.linear_model import LogisticRegression\n",
    "from sklearn.model_selection import train_test_split\n",
    "from sklearn.metrics import accuracy_score"
   ]
  },
  {
   "cell_type": "code",
   "execution_count": 2,
   "metadata": {},
   "outputs": [
    {
     "name": "stdout",
     "output_type": "stream",
     "text": [
      "91.42857142857143\n"
     ]
    }
   ],
   "source": [
    "#dự đoán file ham_test dùng MultinomialNB()\n",
    "l=[]\n",
    "with open('trainingSMS.txt', 'r') as f:\n",
    "    l = ast.literal_eval(f.read())\n",
    "X_train=[]#content\n",
    "Y_train=[]#label\n",
    "\n",
    "for i in range(0,len(l)):\n",
    "    X_train.append(l[i]['content'])\n",
    "for i in range(0,len(l)):\n",
    "    Y_train.append(str(l[i]['label']))\n",
    "    \n",
    "file = open(\"ham_test.txt\", encoding=\"utf8\")\n",
    "l=file.read()\n",
    "li=l.split(\"\\n\")\n",
    "\n",
    "for i in range(0,len(li)):    \n",
    "    X_train.append((li[i].split(\"\\t\"))[1])\n",
    "    Y_train.append((li[i].split(\"\\t\"))[0])\n",
    "    \n",
    "vectorizer = CountVectorizer()\n",
    "X = vectorizer.fit_transform(X_train)#vector hoa mang du lieu train\n",
    "\n",
    "mail_train= X[0:239]\n",
    "mail_test= X[240:]\n",
    "label_train= Y_train[0:239]\n",
    "label_test= Y_train[240:]\n",
    "\n",
    "a=mail_train.toarray()#mang du lieu train\n",
    "label = np.array(label_train)# mang label\n",
    "clf = MultinomialNB()\n",
    "# training\n",
    "clf.fit(a, label)\n",
    "\n",
    "mt=mail_test.toarray()\n",
    "# d=np.array(mt)\n",
    "\n",
    "y_pred= clf.predict(mt)\n",
    "print(accuracy_score(label_test, y_pred)*100)\n"
   ]
  },
  {
   "cell_type": "code",
   "execution_count": 3,
   "metadata": {},
   "outputs": [
    {
     "name": "stdout",
     "output_type": "stream",
     "text": [
      "100.0\n"
     ]
    }
   ],
   "source": [
    "#dự đoán file spam_test dùng MultinomialNB()\n",
    "l=[]\n",
    "with open('trainingSMS.txt', 'r') as f:\n",
    "    l = ast.literal_eval(f.read())\n",
    "X_train=[]#content\n",
    "Y_train=[]#label\n",
    "\n",
    "for i in range(0,len(l)):\n",
    "    X_train.append(l[i]['content'])\n",
    "for i in range(0,len(l)):\n",
    "    Y_train.append(str(l[i]['label']))\n",
    "    \n",
    "file = open(\"spam_test.txt\", encoding=\"utf8\")\n",
    "l=file.read()\n",
    "li=l.split(\"\\n\")\n",
    "\n",
    "for i in range(0,len(li)):    \n",
    "    X_train.append((li[i].split(\"\\t\"))[1])\n",
    "    Y_train.append((li[i].split(\"\\t\"))[0])\n",
    "    \n",
    "vectorizer = CountVectorizer()\n",
    "X = vectorizer.fit_transform(X_train)#vector hoa mang du lieu train\n",
    "\n",
    "mail_train= X[0:239]\n",
    "mail_test= X[240:]\n",
    "label_train= Y_train[0:239]\n",
    "label_test= Y_train[240:]\n",
    "\n",
    "a=mail_train.toarray()#mang du lieu train\n",
    "label = np.array(label_train)# mang label\n",
    "clf = MultinomialNB()\n",
    "# training\n",
    "clf.fit(a, label)\n",
    "\n",
    "mt=mail_test.toarray()\n",
    "# d=np.array(mt)\n",
    "\n",
    "y_pred= clf.predict(mt)\n",
    "print(accuracy_score(label_test, y_pred)*100)\n"
   ]
  },
  {
   "cell_type": "code",
   "execution_count": 6,
   "metadata": {},
   "outputs": [
    {
     "name": "stdout",
     "output_type": "stream",
     "text": [
      "97.43589743589743\n"
     ]
    }
   ],
   "source": [
    "#gộp 2 file ham_test và spam_test dùng BernoulliNB()\n",
    "l=[]\n",
    "with open('trainingSMS.txt', 'r') as f:\n",
    "    l = ast.literal_eval(f.read())\n",
    "X_train=[]#content\n",
    "Y_train=[]#label\n",
    "\n",
    "for i in range(0,len(l)):\n",
    "    X_train.append(l[i]['content'])\n",
    "for i in range(0,len(l)):\n",
    "    Y_train.append(str(l[i]['label']))\n",
    "\n",
    "#đọc file ham_test\n",
    "file = open(\"ham_test.txt\", encoding=\"utf8\")\n",
    "l=file.read()\n",
    "li=l.split(\"\\n\")\n",
    "for i in range(0,len(li)):    \n",
    "    X_train.append((li[i].split(\"\\t\"))[1])\n",
    "    Y_train.append((li[i].split(\"\\t\"))[0])\n",
    "    \n",
    "#đọc file spam_test\n",
    "file = open(\"spam_test.txt\", encoding=\"utf8\")\n",
    "l=file.read()\n",
    "li=l.split(\"\\n\")\n",
    "for i in range(0,len(li)):    \n",
    "    X_train.append((li[i].split(\"\\t\"))[1])\n",
    "    Y_train.append((li[i].split(\"\\t\"))[0])\n",
    "    \n",
    "    \n",
    "vectorizer = CountVectorizer()\n",
    "X = vectorizer.fit_transform(X_train)#vector hoa mang du lieu train\n",
    "\n",
    "mail_train= X[0:239]\n",
    "mail_test= X[240:]\n",
    "label_train= Y_train[0:239]\n",
    "label_test= Y_train[240:]\n",
    "\n",
    "a=mail_train.toarray()#mang du lieu train\n",
    "label = np.array(label_train)# mang label\n",
    "clf = BernoulliNB()\n",
    "# training\n",
    "clf.fit(a, label)\n",
    "\n",
    "mt=mail_test.toarray()\n",
    "# d=np.array(mt)\n",
    "\n",
    "y_pred= clf.predict(mt)\n",
    "print(accuracy_score(label_test, y_pred)*100)\n"
   ]
  }
 ],
 "metadata": {
  "kernelspec": {
   "display_name": "Python 3",
   "language": "python",
   "name": "python3"
  },
  "language_info": {
   "codemirror_mode": {
    "name": "ipython",
    "version": 3
   },
   "file_extension": ".py",
   "mimetype": "text/x-python",
   "name": "python",
   "nbconvert_exporter": "python",
   "pygments_lexer": "ipython3",
   "version": "3.6.4"
  }
 },
 "nbformat": 4,
 "nbformat_minor": 2
}
